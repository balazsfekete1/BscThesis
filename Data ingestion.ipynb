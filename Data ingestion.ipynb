{
 "cells": [
  {
   "cell_type": "code",
   "execution_count": 0,
   "metadata": {
    "application/vnd.databricks.v1+cell": {
     "cellMetadata": {
      "byteLimit": 2048000,
      "rowLimit": 10000
     },
     "inputWidgets": {},
     "nuid": "2cb59426-0063-4ea3-9938-8d1456834d7a",
     "showTitle": false,
     "tableResultSettingsMap": {},
     "title": ""
    }
   },
   "outputs": [],
   "source": [
    "base_path = \"/Volumes/workspace/default/instacartmarketbasketanalysis/\"\n",
    "\n",
    "# Read CSVs with header + inferSchema\n",
    "aisles = spark.read.csv(base_path + \"aisles.csv\", header=True, inferSchema=True)\n",
    "departments = spark.read.csv(base_path + \"departments.csv\", header=True, inferSchema=True)\n",
    "order_products_prior = spark.read.csv(base_path + \"order_products__prior.csv\", header=True, inferSchema=True)\n",
    "order_products_train = spark.read.csv(base_path + \"order_products__train.csv\", header=True, inferSchema=True)\n",
    "orders = spark.read.csv(base_path + \"orders.csv\", header=True, inferSchema=True)\n",
    "products = spark.read.csv(base_path + \"products.csv\", header=True, inferSchema=True)\n",
    "\n",
    "# COMMAND ----------\n",
    "# Save as managed tables in schema instacart\n",
    "aisles.write.mode(\"overwrite\").option(\"overwriteSchema\", \"true\").saveAsTable(\"instacart.aisles\")\n",
    "departments.write.mode(\"overwrite\").option(\"overwriteSchema\", \"true\").saveAsTable(\"instacart.departments\")\n",
    "order_products_prior.write.mode(\"overwrite\").option(\"overwriteSchema\", \"true\").saveAsTable(\"instacart.order_products_prior\")\n",
    "order_products_train.write.mode(\"overwrite\").option(\"overwriteSchema\", \"true\").saveAsTable(\"instacart.order_products_train\")\n",
    "orders.write.mode(\"overwrite\").option(\"overwriteSchema\", \"true\").saveAsTable(\"instacart.orders\")\n",
    "products.write.mode(\"overwrite\").option(\"overwriteSchema\", \"true\").saveAsTable(\"instacart.products\")\n",
    "\n"
   ]
  }
 ],
 "metadata": {
  "application/vnd.databricks.v1+notebook": {
   "computePreferences": {
    "hardware": {
     "accelerator": null,
     "gpuPoolId": null,
     "memory": null
    }
   },
   "dashboards": [],
   "environmentMetadata": {
    "base_environment": "",
    "environment_version": "3"
   },
   "inputWidgetPreferences": null,
   "language": "python",
   "notebookMetadata": {
    "pythonIndentUnit": 4
   },
   "notebookName": "Data ingestion",
   "widgets": {}
  },
  "language_info": {
   "name": "python"
  }
 },
 "nbformat": 4,
 "nbformat_minor": 0
}
