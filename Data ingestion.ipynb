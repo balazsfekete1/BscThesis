{
 "cells": [
  {
   "cell_type": "code",
   "execution_count": 0,
   "metadata": {
    "application/vnd.databricks.v1+cell": {
     "cellMetadata": {
      "byteLimit": 2048000,
      "rowLimit": 10000
     },
     "inputWidgets": {},
     "nuid": "2cb59426-0063-4ea3-9938-8d1456834d7a",
     "showTitle": false,
     "tableResultSettingsMap": {},
     "title": ""
    }
   },
   "outputs": [],
   "source": [
    "# Import Data\n",
    "aisles = spark.read.csv(\"/Volumes/workspace/default/instacartmarketbasketanalysis/aisles.csv\", header=True, inferSchema=True)\n",
    "departments = spark.read.csv(\"/Volumes/workspace/default/instacartmarketbasketanalysis/departments.csv\", header=True, inferSchema=True)\n",
    "order_products_prior = spark.read.csv(\"/Volumes/workspace/default/instacartmarketbasketanalysis/order_products__prior.csv\", header=True, inferSchema=True)\n",
    "order_products_train = spark.read.csv(\"/Volumes/workspace/default/instacartmarketbasketanalysis/order_products__train.csv\", header=True, inferSchema=True)\n",
    "orders = spark.read.csv(\"/Volumes/workspace/default/instacartmarketbasketanalysis/orders.csv\", header=True, inferSchema=True)\n",
    "products = spark.read.csv(\"/Volumes/workspace/default/instacartmarketbasketanalysis/products.csv\", header=True, inferSchema=True)\n",
    "\n",
    "# Create Temporary Tables\n",
    "aisles.createOrReplaceTempView(\"aisles\")\n",
    "departments.createOrReplaceTempView(\"departments\")\n",
    "order_products_prior.createOrReplaceTempView(\"order_products_prior\")\n",
    "order_products_train.createOrReplaceTempView(\"order_products_train\")\n",
    "orders.createOrReplaceTempView(\"orders\")\n",
    "products.createOrReplaceTempView(\"products\")"
   ]
  }
 ],
 "metadata": {
  "application/vnd.databricks.v1+notebook": {
   "computePreferences": {
    "hardware": {
     "accelerator": null,
     "gpuPoolId": null,
     "memory": null
    }
   },
   "dashboards": [],
   "environmentMetadata": {
    "base_environment": "",
    "environment_version": "3"
   },
   "inputWidgetPreferences": null,
   "language": "python",
   "notebookMetadata": {
    "pythonIndentUnit": 4
   },
   "notebookName": "Data ingestion",
   "widgets": {}
  },
  "language_info": {
   "name": "python"
  }
 },
 "nbformat": 4,
 "nbformat_minor": 0
}
