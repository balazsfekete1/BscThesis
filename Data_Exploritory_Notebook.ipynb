{
 "cells": [
  {
   "cell_type": "code",
   "execution_count": 0,
   "metadata": {
    "application/vnd.databricks.v1+cell": {
     "cellMetadata": {
      "byteLimit": 2048000,
      "implicitDf": true,
      "rowLimit": 10000
     },
     "inputWidgets": {},
     "nuid": "b088361e-957f-4b5c-ae2e-f9ad82f8359b",
     "showTitle": false,
     "tableResultSettingsMap": {
      "0": {
       "dataGridStateBlob": "{\"version\":1,\"tableState\":{\"columnPinning\":{\"left\":[\"#row_number#\"],\"right\":[]},\"columnSizing\":{\"#row_number#\":53},\"columnVisibility\":{}},\"settings\":{\"columns\":{}},\"syncTimestamp\":1758479553301}",
       "filterBlob": null,
       "queryPlanFiltersBlob": null,
       "tableResultIndex": 0
      }
     },
     "title": ""
    }
   },
   "outputs": [],
   "source": [
    "%sql\n",
    "select \n",
    "  count(order_id) as total_orders, \n",
    "  (case \n",
    "     when order_dow = '0' then 'Sunday'\n",
    "     when order_dow = '1' then 'Monday'\n",
    "     when order_dow = '2' then 'Tuesday'\n",
    "     when order_dow = '3' then 'Wednesday'\n",
    "     when order_dow = '4' then 'Thursday'\n",
    "     when order_dow = '5' then 'Friday'\n",
    "     when order_dow = '6' then 'Saturday'              \n",
    "   end) as day_of_week \n",
    "  from workspace.instacart.orders\n",
    " group by order_dow \n",
    " order by total_orders desc"
   ]
  },
  {
   "cell_type": "code",
   "execution_count": 0,
   "metadata": {
    "application/vnd.databricks.v1+cell": {
     "cellMetadata": {
      "byteLimit": 2048000,
      "implicitDf": true,
      "rowLimit": 10000
     },
     "inputWidgets": {},
     "nuid": "7233e5d1-799d-4bfe-89c2-e9cb70939aa7",
     "showTitle": false,
     "tableResultSettingsMap": {},
     "title": ""
    }
   },
   "outputs": [],
   "source": [
    "%sql\n",
    "select \n",
    "  count(order_id) as total_orders, \n",
    "  order_hour_of_day as hour \n",
    "  from workspace.instacart.orders \n",
    " group by order_hour_of_day \n",
    " order by order_hour_of_day"
   ]
  },
  {
   "cell_type": "code",
   "execution_count": 0,
   "metadata": {
    "application/vnd.databricks.v1+cell": {
     "cellMetadata": {
      "byteLimit": 2048000,
      "implicitDf": true,
      "rowLimit": 10000
     },
     "inputWidgets": {},
     "nuid": "1a6c469a-f0dc-433e-b2ff-158ff138677e",
     "showTitle": false,
     "tableResultSettingsMap": {},
     "title": ""
    }
   },
   "outputs": [],
   "source": [
    "%sql\n",
    "select \n",
    "  count(order_id) as total_orders, \n",
    "  order_hour_of_day as hour \n",
    "  from workspace.instacart.orders\n",
    " group by order_hour_of_day \n",
    " order by order_hour_of_day"
   ]
  },
  {
   "cell_type": "code",
   "execution_count": 0,
   "metadata": {
    "application/vnd.databricks.v1+cell": {
     "cellMetadata": {
      "byteLimit": 2048000,
      "rowLimit": 10000
     },
     "inputWidgets": {},
     "nuid": "d2d8745d-7cba-40d9-81df-4849dcfabdfe",
     "showTitle": false,
     "tableResultSettingsMap": {},
     "title": ""
    }
   },
   "outputs": [],
   "source": [
    "from pyspark.sql.functions import collect_set\n",
    "\n",
    "rawData = spark.sql(\n",
    "    \"\"\"\n",
    "    SELECT pr.order_id, p.product_id\n",
    "    FROM workspace.instacart.order_products_prior pr\n",
    "    INNER JOIN workspace.instacart.order_products_train p\n",
    "        ON pr.product_id = p.product_id\n",
    "    \"\"\"\n",
    ")\n",
    "\n",
    "baskets = rawData.groupBy('order_id').agg(\n",
    "    collect_set('product_id').alias('items')\n",
    ")\n",
    "baskets.createOrReplaceTempView('baskets')"
   ]
  },
  {
   "cell_type": "code",
   "execution_count": 0,
   "metadata": {
    "application/vnd.databricks.v1+cell": {
     "cellMetadata": {
      "byteLimit": 2048000,
      "rowLimit": 10000
     },
     "inputWidgets": {},
     "nuid": "041a2226-8a9b-485f-b972-d8fa61f8c0fb",
     "showTitle": false,
     "tableResultSettingsMap": {},
     "title": ""
    }
   },
   "outputs": [],
   "source": [
    "# Visualize the distribution of basket sizes\n",
    "from pyspark.sql.functions import size\n",
    "\n",
    "basket_sizes = baskets.withColumn(\"basket_size\", size(\"items\"))\n",
    "display(basket_sizes.select(\"basket_size\"))\n",
    "\n",
    "# Visualize the most common products\n",
    "top_products = spark.sql(\"\"\"\n",
    "    SELECT product_name, COUNT(*) as count\n",
    "    FROM products p\n",
    "    JOIN order_products_train o ON p.product_id = o.product_id\n",
    "    GROUP BY product_name\n",
    "    ORDER BY count DESC\n",
    "    LIMIT 20\n",
    "\"\"\")\n",
    "display(top_products)\n",
    "\n",
    "# Visualize the number of orders per user\n",
    "orders_per_user = orders.groupBy(\"user_id\").agg(count(\"order_id\").alias(\"num_orders\"))\n",
    "display(orders_per_user.select(\"num_orders\"))"
   ]
  },
  {
   "cell_type": "code",
   "execution_count": 0,
   "metadata": {
    "application/vnd.databricks.v1+cell": {
     "cellMetadata": {
      "byteLimit": 2048000,
      "rowLimit": 10000
     },
     "inputWidgets": {},
     "nuid": "33f77014-457e-4ffe-8363-45c5240a551e",
     "showTitle": false,
     "tableResultSettingsMap": {},
     "title": ""
    }
   },
   "outputs": [],
   "source": [
    "display(\n",
    "  spark.sql(\n",
    "    \"\"\"\n",
    "    SELECT *\n",
    "    FROM orders\n",
    "    LIMIT 10\n",
    "    \"\"\"\n",
    "  )\n",
    ")"
   ]
  }
 ],
 "metadata": {
  "application/vnd.databricks.v1+notebook": {
   "computePreferences": {
    "hardware": {
     "accelerator": null,
     "gpuPoolId": null,
     "memory": null
    }
   },
   "dashboards": [
    {
     "elements": [
      {
       "dashboardResultIndex": 0,
       "elementNUID": "b088361e-957f-4b5c-ae2e-f9ad82f8359b",
       "elementType": "command",
       "guid": "7cacff39-9ed7-47f2-b23b-1a1a285d23ae",
       "options": null,
       "position": {
        "height": 6,
        "width": 12,
        "x": 0,
        "y": 0,
        "z": null
       },
       "resultIndex": null
      }
     ],
     "globalVars": {},
     "guid": "",
     "layoutOption": {
      "grid": true,
      "stack": true
     },
     "nuid": "1e7be5af-ee9e-4029-80cd-4a8c661b99f7",
     "origId": 6601569265697440,
     "title": "Untitled",
     "version": "DashboardViewV1",
     "width": 1024
    }
   ],
   "environmentMetadata": {
    "base_environment": "",
    "environment_version": "3"
   },
   "inputWidgetPreferences": null,
   "language": "python",
   "notebookMetadata": {
    "mostRecentlyExecutedCommandWithImplicitDF": {
     "commandId": 6601569265697439,
     "dataframes": [
      "_sqldf"
     ]
    },
    "pythonIndentUnit": 4
   },
   "notebookName": "Data_Exploritory_Notebook",
   "widgets": {}
  },
  "language_info": {
   "name": "python"
  }
 },
 "nbformat": 4,
 "nbformat_minor": 0
}
